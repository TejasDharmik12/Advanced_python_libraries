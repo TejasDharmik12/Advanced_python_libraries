{
 "cells": [
  {
   "cell_type": "markdown",
   "id": "36f31961",
   "metadata": {},
   "source": [
    "# Numpy "
   ]
  },
  {
   "cell_type": "code",
   "execution_count": 1,
   "id": "3e00bee0",
   "metadata": {},
   "outputs": [],
   "source": [
    "import numpy as np"
   ]
  },
  {
   "cell_type": "code",
   "execution_count": 2,
   "id": "3c822d0b",
   "metadata": {},
   "outputs": [],
   "source": [
    "arr = np.arange(100000)"
   ]
  },
  {
   "cell_type": "code",
   "execution_count": 3,
   "id": "c319ebe7",
   "metadata": {},
   "outputs": [],
   "source": [
    "pythonlist=list(range(100000))"
   ]
  },
  {
   "cell_type": "code",
   "execution_count": 4,
   "id": "74bb91ab",
   "metadata": {},
   "outputs": [
    {
     "name": "stdout",
     "output_type": "stream",
     "text": [
      "Wall time: 59.2 ms\n"
     ]
    }
   ],
   "source": [
    "%time for _ in range(10): [item*3 for item in pythonlist]"
   ]
  },
  {
   "cell_type": "code",
   "execution_count": 5,
   "id": "8424aa55",
   "metadata": {},
   "outputs": [
    {
     "name": "stdout",
     "output_type": "stream",
     "text": [
      "Wall time: 0 ns\n"
     ]
    }
   ],
   "source": [
    "%time for _ in range(10): arr=arr*3"
   ]
  },
  {
   "cell_type": "code",
   "execution_count": 6,
   "id": "473c1a95",
   "metadata": {},
   "outputs": [
    {
     "data": {
      "text/plain": [
       "array([3, 8, 7, 2, 4])"
      ]
     },
     "execution_count": 6,
     "metadata": {},
     "output_type": "execute_result"
    }
   ],
   "source": [
    "np.array([3,8,7,2,4])"
   ]
  },
  {
   "cell_type": "markdown",
   "id": "759716f5",
   "metadata": {},
   "source": [
    "# Basic Functions"
   ]
  },
  {
   "cell_type": "code",
   "execution_count": 7,
   "id": "85725fb1",
   "metadata": {},
   "outputs": [
    {
     "data": {
      "text/plain": [
       "array([[ 3,  2,  5,  7,  0],\n",
       "       [ 5,  3,  7, 10,  9]])"
      ]
     },
     "execution_count": 7,
     "metadata": {},
     "output_type": "execute_result"
    }
   ],
   "source": [
    "array1=np.array([[3,2,5,7,0],[5,3,7,10,9]])\n",
    "array1"
   ]
  },
  {
   "cell_type": "code",
   "execution_count": 8,
   "id": "9ddfbe42",
   "metadata": {},
   "outputs": [
    {
     "data": {
      "text/plain": [
       "(2, 5)"
      ]
     },
     "execution_count": 8,
     "metadata": {},
     "output_type": "execute_result"
    }
   ],
   "source": [
    "array1.shape"
   ]
  },
  {
   "cell_type": "code",
   "execution_count": 9,
   "id": "019dac11",
   "metadata": {},
   "outputs": [
    {
     "data": {
      "text/plain": [
       "dtype('int32')"
      ]
     },
     "execution_count": 9,
     "metadata": {},
     "output_type": "execute_result"
    }
   ],
   "source": [
    "array1.dtype"
   ]
  },
  {
   "cell_type": "code",
   "execution_count": 10,
   "id": "397a3c1f",
   "metadata": {},
   "outputs": [
    {
     "data": {
      "text/plain": [
       "array([[ 3. ,  2. ,  0.5,  7. ,  0. ],\n",
       "       [ 5. ,  3. ,  7. , 10. ,  9. ]])"
      ]
     },
     "execution_count": 10,
     "metadata": {},
     "output_type": "execute_result"
    }
   ],
   "source": [
    "array2=np.array([[3,2,0.5,7,0],[5,3,7,10,9]])\n",
    "array2\n"
   ]
  },
  {
   "cell_type": "code",
   "execution_count": 11,
   "id": "3fae26d6",
   "metadata": {},
   "outputs": [
    {
     "data": {
      "text/plain": [
       "dtype('float64')"
      ]
     },
     "execution_count": 11,
     "metadata": {},
     "output_type": "execute_result"
    }
   ],
   "source": [
    "array2.dtype"
   ]
  },
  {
   "cell_type": "code",
   "execution_count": 12,
   "id": "96cac9d6",
   "metadata": {},
   "outputs": [
    {
     "data": {
      "text/plain": [
       "array([[ 3,  2,  0,  7,  0],\n",
       "       [ 5,  3,  7, 10,  9]])"
      ]
     },
     "execution_count": 12,
     "metadata": {},
     "output_type": "execute_result"
    }
   ],
   "source": [
    "array3=np.array([[3,2,0.5,7,0],[5,3,7,10,9]],dtype='int32')\n",
    "array3"
   ]
  },
  {
   "cell_type": "code",
   "execution_count": 13,
   "id": "5ffbbdb2",
   "metadata": {},
   "outputs": [
    {
     "data": {
      "text/plain": [
       "array([0., 0., 0., 0.])"
      ]
     },
     "execution_count": 13,
     "metadata": {},
     "output_type": "execute_result"
    }
   ],
   "source": [
    "np.zeros(4)  #take arg as tuple"
   ]
  },
  {
   "cell_type": "code",
   "execution_count": 14,
   "id": "887eb758",
   "metadata": {},
   "outputs": [
    {
     "data": {
      "text/plain": [
       "array([[0., 0., 0., 0., 0., 0.],\n",
       "       [0., 0., 0., 0., 0., 0.],\n",
       "       [0., 0., 0., 0., 0., 0.],\n",
       "       [0., 0., 0., 0., 0., 0.]])"
      ]
     },
     "execution_count": 14,
     "metadata": {},
     "output_type": "execute_result"
    }
   ],
   "source": [
    "np.zeros((4,6))"
   ]
  },
  {
   "cell_type": "code",
   "execution_count": 15,
   "id": "50ebb5fa",
   "metadata": {},
   "outputs": [
    {
     "data": {
      "text/plain": [
       "array([1., 1., 1., 1., 1., 1.])"
      ]
     },
     "execution_count": 15,
     "metadata": {},
     "output_type": "execute_result"
    }
   ],
   "source": [
    "np.ones(6)"
   ]
  },
  {
   "cell_type": "code",
   "execution_count": 16,
   "id": "f2b161ba",
   "metadata": {},
   "outputs": [
    {
     "data": {
      "text/plain": [
       "array([[1., 1., 1., 1., 1., 1.],\n",
       "       [1., 1., 1., 1., 1., 1.],\n",
       "       [1., 1., 1., 1., 1., 1.],\n",
       "       [1., 1., 1., 1., 1., 1.]])"
      ]
     },
     "execution_count": 16,
     "metadata": {},
     "output_type": "execute_result"
    }
   ],
   "source": [
    "np.ones((4,6))"
   ]
  },
  {
   "cell_type": "code",
   "execution_count": 17,
   "id": "d89d9c8c",
   "metadata": {},
   "outputs": [
    {
     "data": {
      "text/plain": [
       "dtype('float64')"
      ]
     },
     "execution_count": 17,
     "metadata": {},
     "output_type": "execute_result"
    }
   ],
   "source": [
    "np.ones(6).dtype  #float because of furthur usage, for safer side we got float64"
   ]
  },
  {
   "cell_type": "code",
   "execution_count": 18,
   "id": "af5bb773",
   "metadata": {},
   "outputs": [
    {
     "data": {
      "text/plain": [
       "array([[0., 0.],\n",
       "       [0., 0.],\n",
       "       [0., 0.],\n",
       "       [0., 0.]])"
      ]
     },
     "execution_count": 18,
     "metadata": {},
     "output_type": "execute_result"
    }
   ],
   "source": [
    "np.empty((4,2))  # empty contains zeros or any garbage values but in zeros it must contain only zeros"
   ]
  },
  {
   "cell_type": "markdown",
   "id": "4d0f8ef3",
   "metadata": {},
   "source": [
    "# Operations on arrays"
   ]
  },
  {
   "cell_type": "code",
   "execution_count": 19,
   "id": "16038933",
   "metadata": {},
   "outputs": [
    {
     "data": {
      "text/plain": [
       "array([[ 3,  2,  5,  7,  0],\n",
       "       [ 5,  3,  7, 10,  9]])"
      ]
     },
     "execution_count": 19,
     "metadata": {},
     "output_type": "execute_result"
    }
   ],
   "source": [
    "array1"
   ]
  },
  {
   "cell_type": "code",
   "execution_count": 20,
   "id": "c6c95bb9",
   "metadata": {},
   "outputs": [
    {
     "data": {
      "text/plain": [
       "array([[  9,   4,  25,  49,   0],\n",
       "       [ 25,   9,  49, 100,  81]])"
      ]
     },
     "execution_count": 20,
     "metadata": {},
     "output_type": "execute_result"
    }
   ],
   "source": [
    "array1*array1"
   ]
  },
  {
   "cell_type": "code",
   "execution_count": 21,
   "id": "ee1ee082",
   "metadata": {},
   "outputs": [
    {
     "data": {
      "text/plain": [
       "array([[        27,          4,       3125,     823543,          1],\n",
       "       [      3125,         27,     823543, 1410065408,  387420489]],\n",
       "      dtype=int32)"
      ]
     },
     "execution_count": 21,
     "metadata": {},
     "output_type": "execute_result"
    }
   ],
   "source": [
    "array1**array1"
   ]
  },
  {
   "cell_type": "code",
   "execution_count": 22,
   "id": "c9ffba2d",
   "metadata": {},
   "outputs": [
    {
     "name": "stderr",
     "output_type": "stream",
     "text": [
      "<ipython-input-22-38a290605690>:1: RuntimeWarning: divide by zero encountered in true_divide\n",
      "  1/array1\n"
     ]
    },
    {
     "data": {
      "text/plain": [
       "array([[0.33333333, 0.5       , 0.2       , 0.14285714,        inf],\n",
       "       [0.2       , 0.33333333, 0.14285714, 0.1       , 0.11111111]])"
      ]
     },
     "execution_count": 22,
     "metadata": {},
     "output_type": "execute_result"
    }
   ],
   "source": [
    "1/array1"
   ]
  },
  {
   "cell_type": "markdown",
   "id": "c5d9221d",
   "metadata": {},
   "source": [
    "# Slicing"
   ]
  },
  {
   "cell_type": "code",
   "execution_count": 23,
   "id": "10fe7d7f",
   "metadata": {},
   "outputs": [],
   "source": [
    "arr1=np.array([5,9,7,6,4,5,6])"
   ]
  },
  {
   "cell_type": "code",
   "execution_count": 24,
   "id": "29783811",
   "metadata": {},
   "outputs": [],
   "source": [
    "ARR = arr1[4:6]"
   ]
  },
  {
   "cell_type": "code",
   "execution_count": 25,
   "id": "30561312",
   "metadata": {},
   "outputs": [
    {
     "data": {
      "text/plain": [
       "array([4, 5])"
      ]
     },
     "execution_count": 25,
     "metadata": {},
     "output_type": "execute_result"
    }
   ],
   "source": [
    "ARR"
   ]
  },
  {
   "cell_type": "code",
   "execution_count": 26,
   "id": "d6bfc2bd",
   "metadata": {},
   "outputs": [],
   "source": [
    "ARR[0] = 9"
   ]
  },
  {
   "cell_type": "code",
   "execution_count": 27,
   "id": "a6af0938",
   "metadata": {},
   "outputs": [
    {
     "data": {
      "text/plain": [
       "array([5, 9, 7, 6, 9, 5, 6])"
      ]
     },
     "execution_count": 27,
     "metadata": {},
     "output_type": "execute_result"
    }
   ],
   "source": [
    "arr1   #here the main array is changed therefore use copy function "
   ]
  },
  {
   "cell_type": "code",
   "execution_count": 30,
   "id": "4f2fc820",
   "metadata": {},
   "outputs": [],
   "source": [
    "arr2=np.array([5,9,7,6,4,5,4])"
   ]
  },
  {
   "cell_type": "code",
   "execution_count": 32,
   "id": "5e955fec",
   "metadata": {},
   "outputs": [
    {
     "data": {
      "text/plain": [
       "array([4, 5])"
      ]
     },
     "execution_count": 32,
     "metadata": {},
     "output_type": "execute_result"
    }
   ],
   "source": [
    "ARR2=arr2[4:6].copy()\n",
    "ARR2"
   ]
  },
  {
   "cell_type": "code",
   "execution_count": 33,
   "id": "e872efda",
   "metadata": {},
   "outputs": [],
   "source": [
    "ARR2[0]=8"
   ]
  },
  {
   "cell_type": "code",
   "execution_count": 34,
   "id": "dbfdcbfc",
   "metadata": {},
   "outputs": [
    {
     "data": {
      "text/plain": [
       "array([8, 5])"
      ]
     },
     "execution_count": 34,
     "metadata": {},
     "output_type": "execute_result"
    }
   ],
   "source": [
    "ARR2"
   ]
  },
  {
   "cell_type": "code",
   "execution_count": 35,
   "id": "abe6c46c",
   "metadata": {},
   "outputs": [
    {
     "data": {
      "text/plain": [
       "array([5, 9, 7, 6, 4, 5, 4])"
      ]
     },
     "execution_count": 35,
     "metadata": {},
     "output_type": "execute_result"
    }
   ],
   "source": [
    "arr2"
   ]
  },
  {
   "cell_type": "code",
   "execution_count": 36,
   "id": "ac485fe2",
   "metadata": {},
   "outputs": [
    {
     "data": {
      "text/plain": [
       "array([[ 3,  2,  5,  7,  0],\n",
       "       [ 5,  3,  7, 10,  9]])"
      ]
     },
     "execution_count": 36,
     "metadata": {},
     "output_type": "execute_result"
    }
   ],
   "source": [
    "array1"
   ]
  },
  {
   "cell_type": "code",
   "execution_count": 37,
   "id": "682d9e3a",
   "metadata": {},
   "outputs": [
    {
     "data": {
      "text/plain": [
       "array([3, 2, 5, 7, 0])"
      ]
     },
     "execution_count": 37,
     "metadata": {},
     "output_type": "execute_result"
    }
   ],
   "source": [
    "array1[0]"
   ]
  },
  {
   "cell_type": "code",
   "execution_count": 38,
   "id": "69846aa2",
   "metadata": {},
   "outputs": [
    {
     "data": {
      "text/plain": [
       "7"
      ]
     },
     "execution_count": 38,
     "metadata": {},
     "output_type": "execute_result"
    }
   ],
   "source": [
    "array1[0,3]"
   ]
  },
  {
   "cell_type": "markdown",
   "id": "c903822b",
   "metadata": {},
   "source": [
    "# Axis, Sorting, Multiplication of Matrices"
   ]
  },
  {
   "cell_type": "code",
   "execution_count": 42,
   "id": "5e299f92",
   "metadata": {},
   "outputs": [],
   "source": [
    "a= np.array([[1,2,3],\n",
    "               [4,5,6]])"
   ]
  },
  {
   "cell_type": "code",
   "execution_count": 43,
   "id": "02088d33",
   "metadata": {},
   "outputs": [
    {
     "data": {
      "text/plain": [
       "array([5, 7, 9])"
      ]
     },
     "execution_count": 43,
     "metadata": {},
     "output_type": "execute_result"
    }
   ],
   "source": [
    "a.sum(axis=0)   #for columns"
   ]
  },
  {
   "cell_type": "code",
   "execution_count": 44,
   "id": "66d5f0c9",
   "metadata": {},
   "outputs": [
    {
     "data": {
      "text/plain": [
       "array([ 6, 15])"
      ]
     },
     "execution_count": 44,
     "metadata": {},
     "output_type": "execute_result"
    }
   ],
   "source": [
    "a.sum(axis=1)      #for rows"
   ]
  },
  {
   "cell_type": "code",
   "execution_count": 45,
   "id": "f59d0ab6",
   "metadata": {},
   "outputs": [],
   "source": [
    "b = np.array([[7,1,6],\n",
    "              [5,6,1]])"
   ]
  },
  {
   "cell_type": "code",
   "execution_count": 46,
   "id": "f9ded774",
   "metadata": {},
   "outputs": [
    {
     "data": {
      "text/plain": [
       "array([[27, 20],\n",
       "       [69, 56]])"
      ]
     },
     "execution_count": 46,
     "metadata": {},
     "output_type": "execute_result"
    }
   ],
   "source": [
    "np.dot(a,b.transpose())"
   ]
  },
  {
   "cell_type": "code",
   "execution_count": 50,
   "id": "563c1f58",
   "metadata": {},
   "outputs": [
    {
     "data": {
      "text/plain": [
       "array([[  9,  15, -13],\n",
       "       [-31,  26,  -1]])"
      ]
     },
     "execution_count": 50,
     "metadata": {},
     "output_type": "execute_result"
    }
   ],
   "source": [
    "np.cross(a,b)"
   ]
  },
  {
   "cell_type": "code",
   "execution_count": 57,
   "id": "eb38b44a",
   "metadata": {},
   "outputs": [],
   "source": [
    "a= np.array([[1,15,3],\n",
    "               [4,9,6]])"
   ]
  },
  {
   "cell_type": "code",
   "execution_count": 58,
   "id": "d78fbd97",
   "metadata": {},
   "outputs": [
    {
     "data": {
      "text/plain": [
       "array([[ 1,  3, 15],\n",
       "       [ 4,  6,  9]])"
      ]
     },
     "execution_count": 58,
     "metadata": {},
     "output_type": "execute_result"
    }
   ],
   "source": [
    "np.sort(a)   #default in rows (axis=1)"
   ]
  },
  {
   "cell_type": "code",
   "execution_count": 59,
   "id": "a6c31241",
   "metadata": {},
   "outputs": [
    {
     "data": {
      "text/plain": [
       "array([[ 1,  3, 15],\n",
       "       [ 4,  6,  9]])"
      ]
     },
     "execution_count": 59,
     "metadata": {},
     "output_type": "execute_result"
    }
   ],
   "source": [
    "np.sort(a,axis=1)"
   ]
  },
  {
   "cell_type": "code",
   "execution_count": 60,
   "id": "263a3f74",
   "metadata": {},
   "outputs": [
    {
     "data": {
      "text/plain": [
       "array([[ 1,  9,  3],\n",
       "       [ 4, 15,  6]])"
      ]
     },
     "execution_count": 60,
     "metadata": {},
     "output_type": "execute_result"
    }
   ],
   "source": [
    "np.sort(a,axis=0)"
   ]
  },
  {
   "cell_type": "code",
   "execution_count": 61,
   "id": "9a9228cf",
   "metadata": {},
   "outputs": [
    {
     "data": {
      "text/plain": [
       "array([[ 1,  9,  3],\n",
       "       [ 4, 15,  6]])"
      ]
     },
     "execution_count": 61,
     "metadata": {},
     "output_type": "execute_result"
    }
   ],
   "source": [
    " #Kind in arrays \n",
    "np.sort(a,axis=0,kind='mergesort')"
   ]
  },
  {
   "cell_type": "code",
   "execution_count": 62,
   "id": "c1c86e12",
   "metadata": {},
   "outputs": [
    {
     "data": {
      "text/plain": [
       "array([[ 1,  9,  3],\n",
       "       [ 4, 15,  6]])"
      ]
     },
     "execution_count": 62,
     "metadata": {},
     "output_type": "execute_result"
    }
   ],
   "source": [
    "np.sort(a,axis=0,kind='quicksort')"
   ]
  },
  {
   "cell_type": "markdown",
   "id": "1c2bf71e",
   "metadata": {},
   "source": [
    "# Argsort, Argmin, Argmax"
   ]
  },
  {
   "cell_type": "code",
   "execution_count": 64,
   "id": "51ce8d45",
   "metadata": {},
   "outputs": [
    {
     "data": {
      "text/plain": [
       "array([[ 5,  6,  5, 47,  2,  4,  2,  2,  2,  4,  6,  8,  8, 99,  5, 12,\n",
       "         2,  7]])"
      ]
     },
     "execution_count": 64,
     "metadata": {},
     "output_type": "execute_result"
    }
   ],
   "source": [
    "Ar = np.array([5,6,5,47,2,4,2,2,2,4,6,8,8,99,5,12,2,7])\n",
    "Ar.reshape(1,18)"
   ]
  },
  {
   "cell_type": "code",
   "execution_count": 65,
   "id": "805bfbb9",
   "metadata": {},
   "outputs": [
    {
     "data": {
      "text/plain": [
       "array([[ 5,  6],\n",
       "       [ 5, 47],\n",
       "       [ 2,  4],\n",
       "       [ 2,  2],\n",
       "       [ 2,  4],\n",
       "       [ 6,  8],\n",
       "       [ 8, 99],\n",
       "       [ 5, 12],\n",
       "       [ 2,  7]])"
      ]
     },
     "execution_count": 65,
     "metadata": {},
     "output_type": "execute_result"
    }
   ],
   "source": [
    "Ar.reshape(9,2)"
   ]
  },
  {
   "cell_type": "code",
   "execution_count": 67,
   "id": "47c6313a",
   "metadata": {},
   "outputs": [
    {
     "data": {
      "text/plain": [
       "array([[ 5,  6,  5],\n",
       "       [47,  2,  4],\n",
       "       [ 2,  2,  2],\n",
       "       [ 4,  6,  8],\n",
       "       [ 8, 99,  5],\n",
       "       [12,  2,  7]])"
      ]
     },
     "execution_count": 67,
     "metadata": {},
     "output_type": "execute_result"
    }
   ],
   "source": [
    "c=Ar.reshape(6,3)\n",
    "c"
   ]
  },
  {
   "cell_type": "code",
   "execution_count": 71,
   "id": "76b32109",
   "metadata": {},
   "outputs": [],
   "source": [
    "Ar = np.array([5,6,5,47,2,4,2,2,2,4,6,8,8,99,5,12,2,7])"
   ]
  },
  {
   "cell_type": "code",
   "execution_count": 72,
   "id": "b62f0604",
   "metadata": {},
   "outputs": [
    {
     "data": {
      "text/plain": [
       "array([ 8, 16,  4,  6,  7,  9,  5, 14,  0,  2, 10,  1, 17, 11, 12, 15,  3,\n",
       "       13], dtype=int64)"
      ]
     },
     "execution_count": 72,
     "metadata": {},
     "output_type": "execute_result"
    }
   ],
   "source": [
    "np.argsort(Ar)  # value index wise ascending order"
   ]
  },
  {
   "cell_type": "code",
   "execution_count": 73,
   "id": "890fada1",
   "metadata": {},
   "outputs": [
    {
     "data": {
      "text/plain": [
       "4"
      ]
     },
     "execution_count": 73,
     "metadata": {},
     "output_type": "execute_result"
    }
   ],
   "source": [
    "np.argmin(Ar)"
   ]
  },
  {
   "cell_type": "code",
   "execution_count": 74,
   "id": "56e05a1e",
   "metadata": {},
   "outputs": [
    {
     "data": {
      "text/plain": [
       "13"
      ]
     },
     "execution_count": 74,
     "metadata": {},
     "output_type": "execute_result"
    }
   ],
   "source": [
    "np.argmax(Ar)"
   ]
  },
  {
   "cell_type": "code",
   "execution_count": 75,
   "id": "079294a8",
   "metadata": {},
   "outputs": [
    {
     "data": {
      "text/plain": [
       "array([[ 5,  6,  5],\n",
       "       [47,  2,  4],\n",
       "       [ 2,  2,  2],\n",
       "       [ 4,  6,  8],\n",
       "       [ 8, 99,  5],\n",
       "       [12,  2,  7]])"
      ]
     },
     "execution_count": 75,
     "metadata": {},
     "output_type": "execute_result"
    }
   ],
   "source": [
    "c        # on 2D arrays"
   ]
  },
  {
   "cell_type": "code",
   "execution_count": 76,
   "id": "2da9a2ca",
   "metadata": {},
   "outputs": [
    {
     "data": {
      "text/plain": [
       "array([[0, 2, 1],\n",
       "       [1, 2, 0],\n",
       "       [0, 1, 2],\n",
       "       [0, 1, 2],\n",
       "       [2, 0, 1],\n",
       "       [1, 2, 0]], dtype=int64)"
      ]
     },
     "execution_count": 76,
     "metadata": {},
     "output_type": "execute_result"
    }
   ],
   "source": [
    "np.argsort(c)    #default in rows (axis=1)"
   ]
  },
  {
   "cell_type": "code",
   "execution_count": 77,
   "id": "49da5795",
   "metadata": {},
   "outputs": [
    {
     "data": {
      "text/plain": [
       "array([[2, 1, 2],\n",
       "       [3, 2, 1],\n",
       "       [0, 5, 0],\n",
       "       [4, 0, 4],\n",
       "       [5, 3, 5],\n",
       "       [1, 4, 3]], dtype=int64)"
      ]
     },
     "execution_count": 77,
     "metadata": {},
     "output_type": "execute_result"
    }
   ],
   "source": [
    "np.argsort(c,axis=0)   #columns"
   ]
  },
  {
   "cell_type": "code",
   "execution_count": null,
   "id": "9448ded1",
   "metadata": {},
   "outputs": [],
   "source": []
  }
 ],
 "metadata": {
  "kernelspec": {
   "display_name": "Python 3",
   "language": "python",
   "name": "python3"
  },
  "language_info": {
   "codemirror_mode": {
    "name": "ipython",
    "version": 3
   },
   "file_extension": ".py",
   "mimetype": "text/x-python",
   "name": "python",
   "nbconvert_exporter": "python",
   "pygments_lexer": "ipython3",
   "version": "3.8.8"
  }
 },
 "nbformat": 4,
 "nbformat_minor": 5
}
